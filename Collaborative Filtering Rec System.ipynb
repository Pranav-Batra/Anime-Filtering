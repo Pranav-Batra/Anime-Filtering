{
 "cells": [
  {
   "cell_type": "code",
   "execution_count": 1,
   "id": "41d5277e-bbc5-40ce-8be1-527c3154d60d",
   "metadata": {},
   "outputs": [],
   "source": [
    "import numpy as np\n",
    "import pandas as pd\n",
    "import matplotlib.pyplot as plt"
   ]
  },
  {
   "cell_type": "code",
   "execution_count": 2,
   "id": "194b8eba-fccc-4d96-8852-3adb37110ac7",
   "metadata": {},
   "outputs": [],
   "source": [
    "animes = pd.read_csv(\"data/anime.csv\")\n",
    "ratings = pd.read_csv(\"data/rating.csv\")"
   ]
  },
  {
   "cell_type": "code",
   "execution_count": 3,
   "id": "5ed26b80-c023-459d-b928-651dfc6327f6",
   "metadata": {},
   "outputs": [],
   "source": [
    "animes = animes.drop(columns = ['type', 'episodes'], axis = 1)"
   ]
  },
  {
   "cell_type": "code",
   "execution_count": 4,
   "id": "200b332e-f34c-4797-9f37-8f9ad6ba7b22",
   "metadata": {},
   "outputs": [],
   "source": [
    "ratings = ratings[ratings.rating != -1]\n"
   ]
  },
  {
   "cell_type": "code",
   "execution_count": 5,
   "id": "f1b7157c-4068-4fa6-89e5-0b92a1f00777",
   "metadata": {},
   "outputs": [],
   "source": [
    "animes.dropna(subset = ['rating'], inplace = True)"
   ]
  },
  {
   "cell_type": "code",
   "execution_count": 7,
   "id": "c32df9ec-95d9-4456-9ea4-58603ff54c75",
   "metadata": {},
   "outputs": [
    {
     "data": {
      "text/plain": [
       "9927"
      ]
     },
     "execution_count": 7,
     "metadata": {},
     "output_type": "execute_result"
    }
   ],
   "source": [
    "n_animes = ratings['anime_id'].nunique()\n",
    "n_animes"
   ]
  },
  {
   "cell_type": "code",
   "execution_count": 8,
   "id": "6b9f2f88-96ef-4ca4-8564-da3c33f48794",
   "metadata": {},
   "outputs": [
    {
     "data": {
      "text/plain": [
       "(6337241, 3)"
      ]
     },
     "execution_count": 8,
     "metadata": {},
     "output_type": "execute_result"
    }
   ],
   "source": [
    "ratings.shape"
   ]
  },
  {
   "cell_type": "code",
   "execution_count": 9,
   "id": "0dbe09d9-84b8-42f5-a8e0-6cbb0e295863",
   "metadata": {},
   "outputs": [],
   "source": [
    "import seaborn as sns"
   ]
  },
  {
   "cell_type": "code",
   "execution_count": 10,
   "id": "067b765b-bbdb-4c32-8f62-4735120cedc8",
   "metadata": {},
   "outputs": [
    {
     "data": {
      "image/png": "[encoded data removed]",
      "text/plain": [
       "<Figure size 640x480 with 1 Axes>"
      ]
     },
     "metadata": {},
     "output_type": "display_data"
    }
   ],
   "source": [
    "sns.countplot(x = \"rating\", data = ratings)\n",
    "plt.title(\"Dist of anime ratings\", fontsize = 14)\n",
    "plt.show()"
   ]
  },
  {
   "cell_type": "code",
   "execution_count": 11,
   "id": "0ff02b0d-38ab-4851-b008-555ffacead3e",
   "metadata": {},
   "outputs": [],
   "source": [
    "##create sparse matrix for filtering\n",
    "from scipy.sparse import csr_matrix"
   ]
  },
  {
   "cell_type": "code",
   "execution_count": 30,
   "id": "09846403-56f6-4267-9910-c3d0e60d3556",
   "metadata": {},
   "outputs": [],
   "source": [
    "def create_sparse(ratings):\n",
    "    userCount = ratings['user_id'].nunique() ##number of unique users\n",
    "    animeCount = ratings['anime_id'].nunique() ##number of unique animes\n",
    "\n",
    "    user_map = dict(zip(np.unique(ratings['user_id']), list(range(userCount)))) ##maps each unique user to an index number\n",
    "    anime_map = dict(zip(np.unique(ratings['anime_id']), list(range(animeCount)))) ##maps each unique anime to an index number\n",
    "\n",
    "    user_inv_map = dict(zip(list(range(userCount)), np.unique(ratings[\"user_id\"]))) ##reverse mappings for both\n",
    "    anime_inv_map = dict(zip(list(range(animeCount)), np.unique(ratings['anime_id'])))\n",
    "\n",
    "    user_index = [user_map[i] for i in ratings['user_id']] ##gets index for each unique user\n",
    "    anime_index = [anime_map[i] for i in ratings['anime_id']] ##gets index for each unique anime\n",
    "\n",
    "    sparse = csr_matrix((ratings['rating'], (user_index, anime_index)), shape = (userCount, animeCount))\n",
    "\n",
    "    return sparse, user_map, anime_map, user_inv_map, anime_inv_map"
   ]
  },
  {
   "cell_type": "code",
   "execution_count": 31,
   "id": "e815ddda-47ae-45a6-88fd-7bde1db51659",
   "metadata": {},
   "outputs": [],
   "source": [
    "X, user_mapper, anime_mapper, user_inv_mapper, anime_inv_mapper = create_sparse(ratings)"
   ]
  },
  {
   "cell_type": "code",
   "execution_count": 32,
   "id": "ba44bf79-faf7-4471-8064-bc60202e2207",
   "metadata": {},
   "outputs": [
    {
     "data": {
      "text/plain": [
       "(69600, 9927)"
      ]
     },
     "execution_count": 32,
     "metadata": {},
     "output_type": "execute_result"
    }
   ],
   "source": [
    "X.shape"
   ]
  },
  {
   "cell_type": "code",
   "execution_count": 33,
   "id": "83526d65-506f-4c8d-bf58-d044d1dea0b2",
   "metadata": {},
   "outputs": [
    {
     "name": "stdout",
     "output_type": "stream",
     "text": [
      "<Compressed Sparse Row sparse matrix of dtype 'int64'\n",
      "\twith 6337234 stored elements and shape (69600, 9927)>\n",
      "  Coords\tValues\n",
      "  (0, 5119)\t10\n",
      "  (0, 6290)\t10\n",
      "  (0, 6323)\t10\n",
      "  (0, 6898)\t10\n",
      "  (1, 6329)\t10\n",
      "  (2, 10)\t8\n",
      "  (2, 131)\t6\n",
      "  (2, 147)\t9\n",
      "  (2, 175)\t10\n",
      "  (2, 200)\t9\n",
      "  (2, 315)\t6\n",
      "  (2, 401)\t7\n",
      "  (2, 492)\t7\n",
      "  (2, 515)\t7\n",
      "  (2, 732)\t10\n",
      "  (2, 1015)\t7\n",
      "  (2, 1017)\t7\n",
      "  (2, 1018)\t7\n",
      "  (2, 1026)\t8\n",
      "  (2, 1176)\t6\n",
      "  (2, 1189)\t8\n",
      "  (2, 1379)\t7\n",
      "  (2, 1388)\t10\n",
      "  (2, 1415)\t7\n",
      "  (2, 1530)\t8\n",
      "  :\t:\n",
      "  (69598, 6257)\t5\n",
      "  (69598, 6307)\t7\n",
      "  (69598, 6316)\t9\n",
      "  (69598, 6321)\t6\n",
      "  (69598, 6323)\t9\n",
      "  (69598, 6324)\t8\n",
      "  (69598, 6348)\t9\n",
      "  (69598, 6380)\t8\n",
      "  (69598, 6395)\t10\n",
      "  (69598, 6396)\t10\n",
      "  (69598, 6428)\t8\n",
      "  (69598, 6450)\t9\n",
      "  (69598, 6458)\t8\n",
      "  (69598, 6462)\t7\n",
      "  (69598, 6551)\t7\n",
      "  (69598, 6584)\t8\n",
      "  (69598, 6622)\t9\n",
      "  (69598, 6666)\t7\n",
      "  (69598, 6673)\t8\n",
      "  (69598, 6768)\t7\n",
      "  (69598, 7063)\t7\n",
      "  (69598, 7167)\t9\n",
      "  (69598, 7868)\t10\n",
      "  (69599, 716)\t9\n",
      "  (69599, 5119)\t9\n"
     ]
    }
   ],
   "source": [
    "print(X)"
   ]
  },
  {
   "cell_type": "code",
   "execution_count": 34,
   "id": "2cfcfef6-a474-4786-95a7-2e4a442f569d",
   "metadata": {},
   "outputs": [
    {
     "name": "stdout",
     "output_type": "stream",
     "text": [
      "0.9172178164972112\n"
     ]
    }
   ],
   "source": [
    "##evaluate sparsity\n",
    "total_elements = X.shape[0] * X.shape[1]\n",
    "num_ratings = X.nnz\n",
    "print(num_ratings / total_elements * 100) ##0.9% sparsity"
   ]
  },
  {
   "cell_type": "code",
   "execution_count": 35,
   "id": "63ec095e-8d16-4a93-81bd-513dfde1da64",
   "metadata": {},
   "outputs": [],
   "source": [
    "##get ratings/user and ratings/anime\n",
    "n_ratings_per_user = X.getnnz(axis = 1)\n",
    "n_ratings_per_anime = X.getnnz(axis = 0)"
   ]
  },
  {
   "cell_type": "code",
   "execution_count": 36,
   "id": "94445e6d-3c28-48cd-a63c-cd7fda56ce5f",
   "metadata": {},
   "outputs": [
    {
     "name": "stdout",
     "output_type": "stream",
     "text": [
      "Most active user rated 3747 animes.\n",
      "Least active user rated 1 animes.\n"
     ]
    }
   ],
   "source": [
    "print(f\"Most active user rated {n_ratings_per_user.max()} animes.\")\n",
    "print(f\"Least active user rated {n_ratings_per_user.min()} animes.\")"
   ]
  },
  {
   "cell_type": "code",
   "execution_count": 37,
   "id": "f457bef0-f499-4762-a0cc-50a38013c6df",
   "metadata": {},
   "outputs": [
    {
     "name": "stdout",
     "output_type": "stream",
     "text": [
      "Most rated anime has 34226 ratings.\n",
      "Least rated anime has 1 ratings.\n"
     ]
    }
   ],
   "source": [
    "print(f\"Most rated anime has {n_ratings_per_anime.max()} ratings.\")\n",
    "print(f\"Least rated anime has {n_ratings_per_anime.min()} ratings.\")"
   ]
  },
  {
   "cell_type": "code",
   "execution_count": 39,
   "id": "0c581bea-1bb2-4f09-9271-497675f6b9cf",
   "metadata": {},
   "outputs": [],
   "source": [
    "##Implement KNN to find similar movies\n",
    "from sklearn.neighbors import NearestNeighbors \n",
    "\n",
    "def find_similar_animes(anime_id, X, anime_mapper, anime_inv_mapper, k, metric = \"cosine\"):\n",
    "    \"\"\"\n",
    "    Finds k-nearest neighbors for anime\n",
    "\n",
    "    Parameters:\n",
    "        anime_id: id of anime person wants similar shows to\n",
    "        X: sparse matrix with all users/ratings\n",
    "        k: number of neighbors to find\n",
    "        metric: distance metric(could be euclidean/etc.)\n",
    "    Output: returns k similar anime Ids\n",
    "    \"\"\"\n",
    "    X = X.T\n",
    "    neighbor_ids = []\n",
    "\n",
    "    anime_index = anime_mapper[anime_id] ##gets index of the anime id given for the X matrix\n",
    "    anime_vector = X[anime_index] ##gets vector of all ratings for given anime id\n",
    "\n",
    "    if isinstance(anime_vector, (np.ndarray)):\n",
    "        anime_vector = anime_vector.reshape(1, -1)\n",
    "    kNN = NearestNeighbors(n_neighbors = k+1, algorithm = \"brute\", metric = metric)\n",
    "    kNN.fit(X)\n",
    "    neighbor = kNN.kneighbors(anime_vector, return_distance = False)\n",
    "    for i in range(0, k):\n",
    "        n = neighbor.item(i)\n",
    "        neighbor_ids.append(anime_inv_mapper[n]) \n",
    "    neighbor_ids.pop(0)\n",
    "    return neighbor_ids"
   ]
  },
  {
   "cell_type": "code",
   "execution_count": 44,
   "id": "17fe864a-f158-4fb5-9246-671046e49e3b",
   "metadata": {},
   "outputs": [
    {
     "data": {
      "text/plain": [
       "[1535, 121, 269, 5114, 1575, 11757, 16498, 813, 442]"
      ]
     },
     "execution_count": 44,
     "metadata": {},
     "output_type": "execute_result"
    }
   ],
   "source": [
    "similar_animes = find_similar_animes(20, X, anime_mapper, anime_inv_mapper, k=10)\n",
    "similar_animes"
   ]
  },
  {
   "cell_type": "code",
   "execution_count": 47,
   "id": "86a0e9f0-318a-42fc-9126-f123126cc5f6",
   "metadata": {},
   "outputs": [
    {
     "name": "stdout",
     "output_type": "stream",
     "text": [
      "Because you watched Naruto:\n",
      "Death Note\n",
      "Fullmetal Alchemist\n",
      "Bleach\n",
      "Fullmetal Alchemist: Brotherhood\n",
      "Code Geass: Hangyaku no Lelouch\n",
      "Sword Art Online\n",
      "Shingeki no Kyojin\n",
      "Dragon Ball Z\n",
      "Naruto Movie 1: Dai Katsugeki!! Yuki Hime Shinobu Houjou Dattebayo!\n"
     ]
    }
   ],
   "source": [
    "anime_titles = dict(zip(animes['anime_id'], animes['name']))\n",
    "anime_id = 20\n",
    "\n",
    "similar_animes = find_similar_animes(anime_id, X, anime_mapper, anime_inv_mapper, k = 10)\n",
    "anime_title = anime_titles[anime_id]\n",
    "\n",
    "print(f\"Because you watched {anime_title}:\")\n",
    "for i in similar_animes:\n",
    "  print(anime_titles[i])"
   ]
  },
  {
   "cell_type": "code",
   "execution_count": 50,
   "id": "f62726f2-067c-419d-bef9-3f68995c6f01",
   "metadata": {},
   "outputs": [],
   "source": [
    "##next step -> implement this using titles so they don't have to search by anime id\n",
    "anime_title_to_id = dict(zip(animes['name'], animes['anime_id']))\n"
   ]
  },
  {
   "cell_type": "code",
   "execution_count": 51,
   "id": "063804bf-f898-4698-9831-58856f634ecf",
   "metadata": {},
   "outputs": [],
   "source": [
    "import fuzzywuzzy"
   ]
  },
  {
   "cell_type": "code",
   "execution_count": 52,
   "id": "71904f33-ed49-4558-a2fc-5e2930482ab2",
   "metadata": {},
   "outputs": [],
   "source": [
    "from fuzzywuzzy import process\n",
    "\n",
    "def anime_finder(title):\n",
    "    all_titles = animes['name'].tolist()\n",
    "    closest_match = process.extractOne(title, all_titles)\n",
    "    return closest_match[0]"
   ]
  },
  {
   "cell_type": "code",
   "execution_count": 53,
   "id": "ad87887c-39c3-4d27-b79d-2596cd4a31c1",
   "metadata": {},
   "outputs": [],
   "source": [
    "def find_similar_animes(title, X, anime_mapper, anime_inv_mapper, k, metric = \"cosine\"):\n",
    "    \"\"\"\n",
    "    Finds k-nearest neighbors for anime\n",
    "\n",
    "    Parameters:\n",
    "        anime_id: id of anime person wants similar shows to\n",
    "        X: sparse matrix with all users/ratings\n",
    "        k: number of neighbors to find\n",
    "        metric: distance metric(could be euclidean/etc.)\n",
    "    Output: returns k similar anime Ids\n",
    "    \"\"\"\n",
    "    X = X.T\n",
    "    neighbor_ids = []\n",
    "\n",
    "    actualTitle = anime_finder(title)\n",
    "    anime_id = anime_title_to_id[actualTitle]\n",
    "    anime_index = anime_mapper[anime_id] ##gets index of the anime id given for the X matrix\n",
    "    anime_vector = X[anime_index] ##gets vector of all ratings for given anime id\n",
    "\n",
    "    if isinstance(anime_vector, (np.ndarray)):\n",
    "        anime_vector = anime_vector.reshape(1, -1)\n",
    "    kNN = NearestNeighbors(n_neighbors = k+1, algorithm = \"brute\", metric = metric)\n",
    "    kNN.fit(X)\n",
    "    neighbor = kNN.kneighbors(anime_vector, return_distance = False)\n",
    "    for i in range(0, k):\n",
    "        n = neighbor.item(i)\n",
    "        neighbor_ids.append(anime_inv_mapper[n]) \n",
    "    neighbor_ids.pop(0)\n",
    "    return neighbor_ids"
   ]
  },
  {
   "cell_type": "code",
   "execution_count": 55,
   "id": "d8be61c9-46a1-49e5-8b5e-b9f7648b3825",
   "metadata": {},
   "outputs": [
    {
     "data": {
      "text/plain": [
       "[1535, 121, 269, 5114, 1575, 11757, 16498, 813, 442]"
      ]
     },
     "execution_count": 55,
     "metadata": {},
     "output_type": "execute_result"
    }
   ],
   "source": [
    "similar_animes = find_similar_animes(\"Naruto\", X, anime_mapper, anime_inv_mapper, k=10)\n",
    "similar_animes"
   ]
  },
  {
   "cell_type": "code",
   "execution_count": 56,
   "id": "753104bc-280e-4bea-9298-1db3aabb2d6d",
   "metadata": {},
   "outputs": [
    {
     "name": "stdout",
     "output_type": "stream",
     "text": [
      "Because you watched Naruto:\n",
      "Death Note\n",
      "Fullmetal Alchemist\n",
      "Bleach\n",
      "Fullmetal Alchemist: Brotherhood\n",
      "Code Geass: Hangyaku no Lelouch\n",
      "Sword Art Online\n",
      "Shingeki no Kyojin\n",
      "Dragon Ball Z\n",
      "Naruto Movie 1: Dai Katsugeki!! Yuki Hime Shinobu Houjou Dattebayo!\n"
     ]
    }
   ],
   "source": [
    "print(\"Because you watched Naruto:\")\n",
    "for i in similar_animes:\n",
    "  print(anime_titles[i])"
   ]
  },
  {
   "cell_type": "code",
   "execution_count": null,
   "id": "970a7e61-a4e7-4ff8-b7b1-f39c471639a6",
   "metadata": {},
   "outputs": [],
   "source": []
  }
 ],
 "metadata": {
  "kernelspec": {
   "display_name": "Python 3 (ipykernel)",
   "language": "python",
   "name": "python3"
  },
  "language_info": {
   "codemirror_mode": {
    "name": "ipython",
    "version": 3
   },
   "file_extension": ".py",
   "mimetype": "text/x-python",
   "name": "python",
   "nbconvert_exporter": "python",
   "pygments_lexer": "ipython3",
   "version": "3.12.4"
  }
 },
 "nbformat": 4,
 "nbformat_minor": 5
}
